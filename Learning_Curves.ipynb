{
 "cells": [
  {
   "cell_type": "markdown",
   "metadata": {
    "id": "cCgXoRxlVFi0"
   },
   "source": [
    "## **Inteligencia Artificial y Aprendizaje Automático**\n",
    "\n",
    "## **Carlos Alvarez**\n",
    "\n",
    "### Prof Luis Eduardo Falcón Morales\n",
    "\n",
    "### **Campañas publicitarias en redes sociales - Modelos de Regresión**\n"
   ]
  },
  {
   "cell_type": "markdown",
   "metadata": {
    "id": "EZ_5sfaamvHY"
   },
   "source": [
    "### **Trabajaremos con el archivo \"dataset_Facebook.csv\" que encuentras en la siguiente liga:**\n",
    "\n",
    "https://archive.ics.uci.edu/dataset/368/facebook+metrics\n",
    "\n",
    "### **Estos datos están asociados al siguiente artículo de Moro et.al., que deberás descargar para contestar varias de las preguntas de esta actividad:**\n",
    "\n",
    "https://www.semanticscholar.org/paper/Predicting-social-media-performance-metrics-and-of-Moro-Rita/dec55692590820754b53c916e29bb2b42c0e5104\n"
   ]
  },
  {
   "cell_type": "markdown",
   "metadata": {
    "id": "gOoOtosZ4bzA"
   },
   "source": [
    "### **NOTA: No modifiques el código, salvo en las partes que se te indica.**"
   ]
  },
  {
   "cell_type": "code",
   "execution_count": 1,
   "metadata": {
    "executionInfo": {
     "elapsed": 13451,
     "status": "ok",
     "timestamp": 1730156679552,
     "user": {
      "displayName": "Carlos Alvarez",
      "userId": "15555807712571237220"
     },
     "user_tz": 360
    },
    "id": "9MZs9gKJ1fWZ"
   },
   "outputs": [],
   "source": [
    "# Puedes incluir más librerías, de ser necesario:\n",
    "\n",
    "import pandas as pd\n",
    "import matplotlib.pyplot as plt\n",
    "import numpy as np\n",
    "\n",
    "from sklearn.model_selection import train_test_split\n",
    "from sklearn.pipeline import Pipeline\n",
    "from sklearn.compose import ColumnTransformer\n",
    "from sklearn.impute import SimpleImputer\n",
    "from sklearn.preprocessing import OneHotEncoder\n",
    "from sklearn.preprocessing import OrdinalEncoder\n",
    "\n",
    "from sklearn.ensemble import RandomForestRegressor\n",
    "from xgboost import XGBRegressor\n",
    "from sklearn.neural_network import MLPRegressor\n",
    "from sklearn.svm import SVR\n",
    "\n",
    "from sklearn import metrics\n",
    "from sklearn.model_selection import RepeatedKFold\n",
    "from sklearn.model_selection import cross_validate\n",
    "from sklearn.metrics import mean_squared_error\n",
    "from sklearn.model_selection import learning_curve\n",
    "\n",
    "import seaborn as sns\n",
    "from sklearn.preprocessing import MinMaxScaler"
   ]
  },
  {
   "cell_type": "markdown",
   "metadata": {
    "id": "wLK5tyC0afDk"
   },
   "source": [
    "## **Ejercicio 1**\n"
   ]
  },
  {
   "cell_type": "markdown",
   "metadata": {
    "id": "VUaKQbUWxNYD"
   },
   "source": [
    "### **Describe en qué consiste el método llamado de \"Curvas de Aprendizaje\" (Learning Cures), para monitorear el subentrenamiento o sobrbeentrenamiento de un modelo.**\n",
    "\n",
    "#### NOTA: Puedes apoyarte en la documentación de sklearn:\n",
    "\n",
    "https://scikit-learn.org/stable/auto_examples/model_selection/plot_learning_curve.html#sphx-glr-auto-examples-model-selection-plot-learning-curve-py\n",
    "\n"
   ]
  },
  {
   "cell_type": "markdown",
   "metadata": {
    "id": "xBYkgkl5yDWn"
   },
   "source": [
    "### ++++++++ Inicia la sección de agregar texto: +++++++++++\n",
    "\n",
    "El método de curvas de aprendizaje es un método gráfico que permite identificar cómo se comporta el modelo en términos de sobreentrenamiento o subentrenamiento cuando se somete a diferentes tamaños de muestra, diferentes ciclos de entrenamiento o diferentes valores de parámetros de penalización. Esto se logra al identificar en el gráfico los tamaños de los errores de sesgo, varianza y ruido.\n",
    "\n",
    "El sobreentrenamienbto se identifica cuando existe sesgo bajo y varianza alta, por el otro lado, sesgo alto con varianza baja indica un modelo subentrenado.\n",
    "\n",
    "\n",
    "### ++++++++ Termina la sección de agregar texto. +++++++++++"
   ]
  },
  {
   "cell_type": "markdown",
   "metadata": {
    "id": "XmUZ46CwyEyu"
   },
   "source": [
    "## **Ejercicio 2**"
   ]
  },
  {
   "cell_type": "markdown",
   "metadata": {
    "id": "8pcpweI8aie8"
   },
   "source": [
    "### **De acuerdo al artículo de Moro et.al., contesta las siguientes preguntas:**\n",
    "\n",
    "*   **a. ¿Cuál es el objetivo del problema que se plantea en el artículo?**\n"
   ]
  },
  {
   "cell_type": "markdown",
   "metadata": {
    "id": "WIqvDWS4tFF2"
   },
   "source": [
    "### ++++++++ Inicia la sección de agregar texto: +++++++++++\n",
    "\n",
    "El articulo propone una metodología para comprobar la influencia de 7 variables de entrada en cuanto a las métricas de performance para publicaciones realizadas en paginas de facebook de empresas. El estudio también contempla conocer que variables impactan mas el permormance de las publicaciones y en que forma.\n",
    "\n",
    "Esto mediante la elaboración de un modelo y obteniendo los errores de predicción del mismo.\n",
    "\n",
    "\n",
    "### ++++++++ Termina la sección de agregar texto. +++++++++++"
   ]
  },
  {
   "cell_type": "markdown",
   "metadata": {
    "id": "DbSEBatds8Vu"
   },
   "source": [
    "\n",
    "*   **b. Describe a continuación el significado de cada una de las 8 variables con la cuales trabajaremos, de acuerdo a la información de las Tablas 2 y 3 del artículo de Moro et.al.**"
   ]
  },
  {
   "cell_type": "markdown",
   "metadata": {
    "id": "tHWhAUezdc-E"
   },
   "source": [
    "### ++++++++ Inicia la sección de agregar texto: +++++++++++\n",
    "\n",
    "\n",
    "*   Category: Indica si el post será relacionado a una oferta, producto o no relacionado con alguna marca.\n",
    "\n",
    "*   Page total likes: Numero de personas que dieron like a la página.\n",
    "\n",
    "*   Type: Tipo de contenido(Imagen, Video, Status, etc.)\n",
    "\n",
    "*   Post Month: Mes en que se realizó la publicación\n",
    "\n",
    "*   Post Hour: Hora en que se realizó la publicación\n",
    "\n",
    "*   Post Weekday: Dia de la semana en la que se realizó la publicación\n",
    "\n",
    "*   Paid: Si la compaía realizó algún pago a facebook por la publicación.\n",
    "\n",
    "*   Lifetime post consumers: Variable de salida que indica la cantidad de      personas que dieron click en cualquier parte del post.\n",
    "\n",
    "### ++++++++ Termina la sección de agregar texto. +++++++++++"
   ]
  },
  {
   "cell_type": "markdown",
   "metadata": {
    "id": "N7aMmfvpWS2b"
   },
   "source": [
    "### **En esta actividad trabajarás solamente con el ajuste de modelos, por lo que la parte de procesamiento no la debes modificar. Solo haremos unos ajustes mínimos.**"
   ]
  },
  {
   "cell_type": "code",
   "execution_count": 2,
   "metadata": {
    "colab": {
     "base_uri": "https://localhost:8080/"
    },
    "executionInfo": {
     "elapsed": 21276,
     "status": "ok",
     "timestamp": 1730156700824,
     "user": {
      "displayName": "Carlos Alvarez",
      "userId": "15555807712571237220"
     },
     "user_tz": 360
    },
    "id": "ZJYRaevMCxhR",
    "outputId": "4b85cffd-0cd2-4cc1-9fac-2374ac3ee272"
   },
   "outputs": [
    {
     "name": "stdout",
     "output_type": "stream",
     "text": [
      "Mounted at /content/drive\n"
     ]
    }
   ],
   "source": [
    "from google.colab import drive\n",
    "drive.mount('/content/drive')"
   ]
  },
  {
   "cell_type": "code",
   "execution_count": 3,
   "metadata": {
    "colab": {
     "base_uri": "https://localhost:8080/"
    },
    "executionInfo": {
     "elapsed": 1157,
     "status": "ok",
     "timestamp": 1730156701978,
     "user": {
      "displayName": "Carlos Alvarez",
      "userId": "15555807712571237220"
     },
     "user_tz": 360
    },
    "id": "N6m_XqcQnCHP",
    "outputId": "e1d5b5ea-0fe5-48ca-af1d-e276fe6043a8"
   },
   "outputs": [
    {
     "name": "stdout",
     "output_type": "stream",
     "text": [
      "Train: (300, 7) (300, 1)\n",
      "Val: (100, 7) (100, 1)\n",
      "Test: (100, 7) (100, 1)\n"
     ]
    }
   ],
   "source": [
    "# Cargamos los datos:\n",
    "\n",
    "data = pd.read_csv('/content/drive/MyDrive/Colab Notebooks/MNA_TEC_DE_MONTERREY/Inteligencia Artificial y Aprendizaje Automatico_TC4030/Modulo 3/Actividad 6/dataset_Facebook.csv', sep=';', header='infer')\n",
    "\n",
    "# Separamos los datos de entrada y la variable de salida:\n",
    "X = data.iloc[:,0:7]   # Las primeras 7 columnas son las variables de entrada.\n",
    "y = data[['Lifetime Post Consumers']]   # Hay 12 variables de salida, pero solo trabajaremos con la\n",
    "                                        # que se consideró la más importante en el artículo de reporte.\n",
    "\n",
    "# Renombramos los niveles de \"Type\", para tener solo valores numéricos en el DataFrame:\n",
    "X['Type'] = X['Type'].map({'Photo':1, 'Status':2, 'Link':3, 'Video':4})\n",
    "\n",
    "# Particionamos en Train, Validation y Test en 60-20-20:\n",
    "Xtrain, Xtv, ytrain, ytv = train_test_split(X, y, train_size=0.6, shuffle=True, random_state=5)\n",
    "Xval, Xtest, yval, ytest = train_test_split(Xtv, ytv, test_size=0.5, shuffle=True, random_state=7)\n",
    "\n",
    "\n",
    "print('Train:', Xtrain.shape, ytrain.shape)\n",
    "print('Val:', Xval.shape, yval.shape)\n",
    "print('Test:', Xtest.shape, ytest.shape)"
   ]
  },
  {
   "cell_type": "code",
   "execution_count": 4,
   "metadata": {
    "colab": {
     "base_uri": "https://localhost:8080/",
     "height": 206
    },
    "executionInfo": {
     "elapsed": 6,
     "status": "ok",
     "timestamp": 1730156701978,
     "user": {
      "displayName": "Carlos Alvarez",
      "userId": "15555807712571237220"
     },
     "user_tz": 360
    },
    "id": "OQM5OUcsaXOE",
    "outputId": "f1149c31-2fce-457a-98fd-d7c81da4c816"
   },
   "outputs": [
    {
     "data": {
      "application/vnd.google.colaboratory.intrinsic+json": {
       "summary": "{\n  \"name\": \"Xtrain\",\n  \"rows\": 300,\n  \"fields\": [\n    {\n      \"column\": \"Page total likes\",\n      \"properties\": {\n        \"dtype\": \"number\",\n        \"std\": 16211,\n        \"min\": 81370,\n        \"max\": 139441,\n        \"num_unique_values\": 75,\n        \"samples\": [\n          125612,\n          91758,\n          86909\n        ],\n        \"semantic_type\": \"\",\n        \"description\": \"\"\n      }\n    },\n    {\n      \"column\": \"Type\",\n      \"properties\": {\n        \"dtype\": \"number\",\n        \"std\": 0,\n        \"min\": 1,\n        \"max\": 4,\n        \"num_unique_values\": 4,\n        \"samples\": [\n          3,\n          4,\n          1\n        ],\n        \"semantic_type\": \"\",\n        \"description\": \"\"\n      }\n    },\n    {\n      \"column\": \"Category\",\n      \"properties\": {\n        \"dtype\": \"number\",\n        \"std\": 0,\n        \"min\": 1,\n        \"max\": 3,\n        \"num_unique_values\": 3,\n        \"samples\": [\n          3,\n          1,\n          2\n        ],\n        \"semantic_type\": \"\",\n        \"description\": \"\"\n      }\n    },\n    {\n      \"column\": \"Post Month\",\n      \"properties\": {\n        \"dtype\": \"number\",\n        \"std\": 3,\n        \"min\": 1,\n        \"max\": 12,\n        \"num_unique_values\": 12,\n        \"samples\": [\n          10,\n          4,\n          11\n        ],\n        \"semantic_type\": \"\",\n        \"description\": \"\"\n      }\n    },\n    {\n      \"column\": \"Post Weekday\",\n      \"properties\": {\n        \"dtype\": \"number\",\n        \"std\": 2,\n        \"min\": 1,\n        \"max\": 7,\n        \"num_unique_values\": 7,\n        \"samples\": [\n          1,\n          4,\n          6\n        ],\n        \"semantic_type\": \"\",\n        \"description\": \"\"\n      }\n    },\n    {\n      \"column\": \"Post Hour\",\n      \"properties\": {\n        \"dtype\": \"number\",\n        \"std\": 4,\n        \"min\": 1,\n        \"max\": 22,\n        \"num_unique_values\": 20,\n        \"samples\": [\n          3,\n          14,\n          1\n        ],\n        \"semantic_type\": \"\",\n        \"description\": \"\"\n      }\n    },\n    {\n      \"column\": \"Paid\",\n      \"properties\": {\n        \"dtype\": \"number\",\n        \"std\": 0.45497112058617467,\n        \"min\": 0.0,\n        \"max\": 1.0,\n        \"num_unique_values\": 2,\n        \"samples\": [\n          1.0,\n          0.0\n        ],\n        \"semantic_type\": \"\",\n        \"description\": \"\"\n      }\n    }\n  ]\n}",
       "type": "dataframe",
       "variable_name": "Xtrain"
      },
      "text/html": [
       "\n",
       "  <div id=\"df-4e30a1d5-ff72-4d05-b602-f0fc7dd590b4\" class=\"colab-df-container\">\n",
       "    <div>\n",
       "<style scoped>\n",
       "    .dataframe tbody tr th:only-of-type {\n",
       "        vertical-align: middle;\n",
       "    }\n",
       "\n",
       "    .dataframe tbody tr th {\n",
       "        vertical-align: top;\n",
       "    }\n",
       "\n",
       "    .dataframe thead th {\n",
       "        text-align: right;\n",
       "    }\n",
       "</style>\n",
       "<table border=\"1\" class=\"dataframe\">\n",
       "  <thead>\n",
       "    <tr style=\"text-align: right;\">\n",
       "      <th></th>\n",
       "      <th>Page total likes</th>\n",
       "      <th>Type</th>\n",
       "      <th>Category</th>\n",
       "      <th>Post Month</th>\n",
       "      <th>Post Weekday</th>\n",
       "      <th>Post Hour</th>\n",
       "      <th>Paid</th>\n",
       "    </tr>\n",
       "  </thead>\n",
       "  <tbody>\n",
       "    <tr>\n",
       "      <th>92</th>\n",
       "      <td>137059</td>\n",
       "      <td>1</td>\n",
       "      <td>3</td>\n",
       "      <td>11</td>\n",
       "      <td>1</td>\n",
       "      <td>3</td>\n",
       "      <td>0.0</td>\n",
       "    </tr>\n",
       "    <tr>\n",
       "      <th>45</th>\n",
       "      <td>138353</td>\n",
       "      <td>3</td>\n",
       "      <td>1</td>\n",
       "      <td>12</td>\n",
       "      <td>4</td>\n",
       "      <td>3</td>\n",
       "      <td>1.0</td>\n",
       "    </tr>\n",
       "    <tr>\n",
       "      <th>313</th>\n",
       "      <td>124940</td>\n",
       "      <td>1</td>\n",
       "      <td>3</td>\n",
       "      <td>6</td>\n",
       "      <td>7</td>\n",
       "      <td>3</td>\n",
       "      <td>1.0</td>\n",
       "    </tr>\n",
       "    <tr>\n",
       "      <th>46</th>\n",
       "      <td>138353</td>\n",
       "      <td>2</td>\n",
       "      <td>1</td>\n",
       "      <td>12</td>\n",
       "      <td>3</td>\n",
       "      <td>11</td>\n",
       "      <td>0.0</td>\n",
       "    </tr>\n",
       "    <tr>\n",
       "      <th>185</th>\n",
       "      <td>134879</td>\n",
       "      <td>1</td>\n",
       "      <td>1</td>\n",
       "      <td>9</td>\n",
       "      <td>1</td>\n",
       "      <td>10</td>\n",
       "      <td>0.0</td>\n",
       "    </tr>\n",
       "  </tbody>\n",
       "</table>\n",
       "</div>\n",
       "    <div class=\"colab-df-buttons\">\n",
       "\n",
       "  <div class=\"colab-df-container\">\n",
       "    <button class=\"colab-df-convert\" onclick=\"convertToInteractive('df-4e30a1d5-ff72-4d05-b602-f0fc7dd590b4')\"\n",
       "            title=\"Convert this dataframe to an interactive table.\"\n",
       "            style=\"display:none;\">\n",
       "\n",
       "  <svg xmlns=\"http://www.w3.org/2000/svg\" height=\"24px\" viewBox=\"0 -960 960 960\">\n",
       "    <path d=\"M120-120v-720h720v720H120Zm60-500h600v-160H180v160Zm220 220h160v-160H400v160Zm0 220h160v-160H400v160ZM180-400h160v-160H180v160Zm440 0h160v-160H620v160ZM180-180h160v-160H180v160Zm440 0h160v-160H620v160Z\"/>\n",
       "  </svg>\n",
       "    </button>\n",
       "\n",
       "  <style>\n",
       "    .colab-df-container {\n",
       "      display:flex;\n",
       "      gap: 12px;\n",
       "    }\n",
       "\n",
       "    .colab-df-convert {\n",
       "      background-color: #E8F0FE;\n",
       "      border: none;\n",
       "      border-radius: 50%;\n",
       "      cursor: pointer;\n",
       "      display: none;\n",
       "      fill: #1967D2;\n",
       "      height: 32px;\n",
       "      padding: 0 0 0 0;\n",
       "      width: 32px;\n",
       "    }\n",
       "\n",
       "    .colab-df-convert:hover {\n",
       "      background-color: #E2EBFA;\n",
       "      box-shadow: 0px 1px 2px rgba(60, 64, 67, 0.3), 0px 1px 3px 1px rgba(60, 64, 67, 0.15);\n",
       "      fill: #174EA6;\n",
       "    }\n",
       "\n",
       "    .colab-df-buttons div {\n",
       "      margin-bottom: 4px;\n",
       "    }\n",
       "\n",
       "    [theme=dark] .colab-df-convert {\n",
       "      background-color: #3B4455;\n",
       "      fill: #D2E3FC;\n",
       "    }\n",
       "\n",
       "    [theme=dark] .colab-df-convert:hover {\n",
       "      background-color: #434B5C;\n",
       "      box-shadow: 0px 1px 3px 1px rgba(0, 0, 0, 0.15);\n",
       "      filter: drop-shadow(0px 1px 2px rgba(0, 0, 0, 0.3));\n",
       "      fill: #FFFFFF;\n",
       "    }\n",
       "  </style>\n",
       "\n",
       "    <script>\n",
       "      const buttonEl =\n",
       "        document.querySelector('#df-4e30a1d5-ff72-4d05-b602-f0fc7dd590b4 button.colab-df-convert');\n",
       "      buttonEl.style.display =\n",
       "        google.colab.kernel.accessAllowed ? 'block' : 'none';\n",
       "\n",
       "      async function convertToInteractive(key) {\n",
       "        const element = document.querySelector('#df-4e30a1d5-ff72-4d05-b602-f0fc7dd590b4');\n",
       "        const dataTable =\n",
       "          await google.colab.kernel.invokeFunction('convertToInteractive',\n",
       "                                                    [key], {});\n",
       "        if (!dataTable) return;\n",
       "\n",
       "        const docLinkHtml = 'Like what you see? Visit the ' +\n",
       "          '<a target=\"_blank\" href=https://colab.research.google.com/notebooks/data_table.ipynb>data table notebook</a>'\n",
       "          + ' to learn more about interactive tables.';\n",
       "        element.innerHTML = '';\n",
       "        dataTable['output_type'] = 'display_data';\n",
       "        await google.colab.output.renderOutput(dataTable, element);\n",
       "        const docLink = document.createElement('div');\n",
       "        docLink.innerHTML = docLinkHtml;\n",
       "        element.appendChild(docLink);\n",
       "      }\n",
       "    </script>\n",
       "  </div>\n",
       "\n",
       "\n",
       "<div id=\"df-f599b8e0-2662-4560-91fb-9084696d33d2\">\n",
       "  <button class=\"colab-df-quickchart\" onclick=\"quickchart('df-f599b8e0-2662-4560-91fb-9084696d33d2')\"\n",
       "            title=\"Suggest charts\"\n",
       "            style=\"display:none;\">\n",
       "\n",
       "<svg xmlns=\"http://www.w3.org/2000/svg\" height=\"24px\"viewBox=\"0 0 24 24\"\n",
       "     width=\"24px\">\n",
       "    <g>\n",
       "        <path d=\"M19 3H5c-1.1 0-2 .9-2 2v14c0 1.1.9 2 2 2h14c1.1 0 2-.9 2-2V5c0-1.1-.9-2-2-2zM9 17H7v-7h2v7zm4 0h-2V7h2v10zm4 0h-2v-4h2v4z\"/>\n",
       "    </g>\n",
       "</svg>\n",
       "  </button>\n",
       "\n",
       "<style>\n",
       "  .colab-df-quickchart {\n",
       "      --bg-color: #E8F0FE;\n",
       "      --fill-color: #1967D2;\n",
       "      --hover-bg-color: #E2EBFA;\n",
       "      --hover-fill-color: #174EA6;\n",
       "      --disabled-fill-color: #AAA;\n",
       "      --disabled-bg-color: #DDD;\n",
       "  }\n",
       "\n",
       "  [theme=dark] .colab-df-quickchart {\n",
       "      --bg-color: #3B4455;\n",
       "      --fill-color: #D2E3FC;\n",
       "      --hover-bg-color: #434B5C;\n",
       "      --hover-fill-color: #FFFFFF;\n",
       "      --disabled-bg-color: #3B4455;\n",
       "      --disabled-fill-color: #666;\n",
       "  }\n",
       "\n",
       "  .colab-df-quickchart {\n",
       "    background-color: var(--bg-color);\n",
       "    border: none;\n",
       "    border-radius: 50%;\n",
       "    cursor: pointer;\n",
       "    display: none;\n",
       "    fill: var(--fill-color);\n",
       "    height: 32px;\n",
       "    padding: 0;\n",
       "    width: 32px;\n",
       "  }\n",
       "\n",
       "  .colab-df-quickchart:hover {\n",
       "    background-color: var(--hover-bg-color);\n",
       "    box-shadow: 0 1px 2px rgba(60, 64, 67, 0.3), 0 1px 3px 1px rgba(60, 64, 67, 0.15);\n",
       "    fill: var(--button-hover-fill-color);\n",
       "  }\n",
       "\n",
       "  .colab-df-quickchart-complete:disabled,\n",
       "  .colab-df-quickchart-complete:disabled:hover {\n",
       "    background-color: var(--disabled-bg-color);\n",
       "    fill: var(--disabled-fill-color);\n",
       "    box-shadow: none;\n",
       "  }\n",
       "\n",
       "  .colab-df-spinner {\n",
       "    border: 2px solid var(--fill-color);\n",
       "    border-color: transparent;\n",
       "    border-bottom-color: var(--fill-color);\n",
       "    animation:\n",
       "      spin 1s steps(1) infinite;\n",
       "  }\n",
       "\n",
       "  @keyframes spin {\n",
       "    0% {\n",
       "      border-color: transparent;\n",
       "      border-bottom-color: var(--fill-color);\n",
       "      border-left-color: var(--fill-color);\n",
       "    }\n",
       "    20% {\n",
       "      border-color: transparent;\n",
       "      border-left-color: var(--fill-color);\n",
       "      border-top-color: var(--fill-color);\n",
       "    }\n",
       "    30% {\n",
       "      border-color: transparent;\n",
       "      border-left-color: var(--fill-color);\n",
       "      border-top-color: var(--fill-color);\n",
       "      border-right-color: var(--fill-color);\n",
       "    }\n",
       "    40% {\n",
       "      border-color: transparent;\n",
       "      border-right-color: var(--fill-color);\n",
       "      border-top-color: var(--fill-color);\n",
       "    }\n",
       "    60% {\n",
       "      border-color: transparent;\n",
       "      border-right-color: var(--fill-color);\n",
       "    }\n",
       "    80% {\n",
       "      border-color: transparent;\n",
       "      border-right-color: var(--fill-color);\n",
       "      border-bottom-color: var(--fill-color);\n",
       "    }\n",
       "    90% {\n",
       "      border-color: transparent;\n",
       "      border-bottom-color: var(--fill-color);\n",
       "    }\n",
       "  }\n",
       "</style>\n",
       "\n",
       "  <script>\n",
       "    async function quickchart(key) {\n",
       "      const quickchartButtonEl =\n",
       "        document.querySelector('#' + key + ' button');\n",
       "      quickchartButtonEl.disabled = true;  // To prevent multiple clicks.\n",
       "      quickchartButtonEl.classList.add('colab-df-spinner');\n",
       "      try {\n",
       "        const charts = await google.colab.kernel.invokeFunction(\n",
       "            'suggestCharts', [key], {});\n",
       "      } catch (error) {\n",
       "        console.error('Error during call to suggestCharts:', error);\n",
       "      }\n",
       "      quickchartButtonEl.classList.remove('colab-df-spinner');\n",
       "      quickchartButtonEl.classList.add('colab-df-quickchart-complete');\n",
       "    }\n",
       "    (() => {\n",
       "      let quickchartButtonEl =\n",
       "        document.querySelector('#df-f599b8e0-2662-4560-91fb-9084696d33d2 button');\n",
       "      quickchartButtonEl.style.display =\n",
       "        google.colab.kernel.accessAllowed ? 'block' : 'none';\n",
       "    })();\n",
       "  </script>\n",
       "</div>\n",
       "\n",
       "    </div>\n",
       "  </div>\n"
      ],
      "text/plain": [
       "     Page total likes  Type  Category  Post Month  Post Weekday  Post Hour  \\\n",
       "92             137059     1         3          11             1          3   \n",
       "45             138353     3         1          12             4          3   \n",
       "313            124940     1         3           6             7          3   \n",
       "46             138353     2         1          12             3         11   \n",
       "185            134879     1         1           9             1         10   \n",
       "\n",
       "     Paid  \n",
       "92    0.0  \n",
       "45    1.0  \n",
       "313   1.0  \n",
       "46    0.0  \n",
       "185   0.0  "
      ]
     },
     "execution_count": 4,
     "metadata": {},
     "output_type": "execute_result"
    }
   ],
   "source": [
    "Xtrain.head() # Nuestros datos de entrada"
   ]
  },
  {
   "cell_type": "code",
   "execution_count": 5,
   "metadata": {
    "colab": {
     "base_uri": "https://localhost:8080/",
     "height": 269
    },
    "executionInfo": {
     "elapsed": 432,
     "status": "ok",
     "timestamp": 1730156702407,
     "user": {
      "displayName": "Carlos Alvarez",
      "userId": "15555807712571237220"
     },
     "user_tz": 360
    },
    "id": "QGJTjTrSk9qU",
    "outputId": "f99509e7-7a47-49d2-adbb-625e73df3f28"
   },
   "outputs": [
    {
     "data": {
      "application/vnd.google.colaboratory.intrinsic+json": {
       "summary": "{\n  \"name\": \"                      # En particular, las desviaciones est\\u00e1ndar son muestrales\",\n  \"rows\": 7,\n  \"fields\": [\n    {\n      \"column\": \"count\",\n      \"properties\": {\n        \"dtype\": \"number\",\n        \"std\": 0.3779644730092272,\n        \"min\": 299.0,\n        \"max\": 300.0,\n        \"num_unique_values\": 2,\n        \"samples\": [\n          299.0,\n          300.0\n        ],\n        \"semantic_type\": \"\",\n        \"description\": \"\"\n      }\n    },\n    {\n      \"column\": \"mean\",\n      \"properties\": {\n        \"dtype\": \"number\",\n        \"std\": 46681.51163813285,\n        \"min\": 0.2909698996655518,\n        \"max\": 123511.37666666666,\n        \"num_unique_values\": 7,\n        \"samples\": [\n          123511.37666666666,\n          1.2166666666666666\n        ],\n        \"semantic_type\": \"\",\n        \"description\": \"\"\n      }\n    },\n    {\n      \"column\": \"std\",\n      \"properties\": {\n        \"dtype\": \"number\",\n        \"std\": 6126.746653911661,\n        \"min\": 0.45497112058617467,\n        \"max\": 16211.773474198251,\n        \"num_unique_values\": 7,\n        \"samples\": [\n          16211.773474198251,\n          0.5809594954383853\n        ],\n        \"semantic_type\": \"\",\n        \"description\": \"\"\n      }\n    },\n    {\n      \"column\": \"min\",\n      \"properties\": {\n        \"dtype\": \"number\",\n        \"std\": 30754.65420062466,\n        \"min\": 0.0,\n        \"max\": 81370.0,\n        \"num_unique_values\": 3,\n        \"samples\": [\n          81370.0,\n          1.0\n        ],\n        \"semantic_type\": \"\",\n        \"description\": \"\"\n      }\n    },\n    {\n      \"column\": \"25%\",\n      \"properties\": {\n        \"dtype\": \"number\",\n        \"std\": 42719.828297395215,\n        \"min\": 0.0,\n        \"max\": 113028.0,\n        \"num_unique_values\": 6,\n        \"samples\": [\n          113028.0,\n          1.0\n        ],\n        \"semantic_type\": \"\",\n        \"description\": \"\"\n      }\n    },\n    {\n      \"column\": \"50%\",\n      \"properties\": {\n        \"dtype\": \"number\",\n        \"std\": 49207.88776625823,\n        \"min\": 0.0,\n        \"max\": 130195.5,\n        \"num_unique_values\": 7,\n        \"samples\": [\n          130195.5,\n          1.0\n        ],\n        \"semantic_type\": \"\",\n        \"description\": \"\"\n      }\n    },\n    {\n      \"column\": \"75%\",\n      \"properties\": {\n        \"dtype\": \"number\",\n        \"std\": 51549.6927139703,\n        \"min\": 1.0,\n        \"max\": 136393.0,\n        \"num_unique_values\": 6,\n        \"samples\": [\n          136393.0,\n          1.0\n        ],\n        \"semantic_type\": \"\",\n        \"description\": \"\"\n      }\n    },\n    {\n      \"column\": \"max\",\n      \"properties\": {\n        \"dtype\": \"number\",\n        \"std\": 52700.65784987436,\n        \"min\": 1.0,\n        \"max\": 139441.0,\n        \"num_unique_values\": 7,\n        \"samples\": [\n          139441.0,\n          4.0\n        ],\n        \"semantic_type\": \"\",\n        \"description\": \"\"\n      }\n    }\n  ]\n}",
       "type": "dataframe"
      },
      "text/html": [
       "\n",
       "  <div id=\"df-2e1e352e-8357-47fb-b041-d0556323eb78\" class=\"colab-df-container\">\n",
       "    <div>\n",
       "<style scoped>\n",
       "    .dataframe tbody tr th:only-of-type {\n",
       "        vertical-align: middle;\n",
       "    }\n",
       "\n",
       "    .dataframe tbody tr th {\n",
       "        vertical-align: top;\n",
       "    }\n",
       "\n",
       "    .dataframe thead th {\n",
       "        text-align: right;\n",
       "    }\n",
       "</style>\n",
       "<table border=\"1\" class=\"dataframe\">\n",
       "  <thead>\n",
       "    <tr style=\"text-align: right;\">\n",
       "      <th></th>\n",
       "      <th>count</th>\n",
       "      <th>mean</th>\n",
       "      <th>std</th>\n",
       "      <th>min</th>\n",
       "      <th>25%</th>\n",
       "      <th>50%</th>\n",
       "      <th>75%</th>\n",
       "      <th>max</th>\n",
       "    </tr>\n",
       "  </thead>\n",
       "  <tbody>\n",
       "    <tr>\n",
       "      <th>Page total likes</th>\n",
       "      <td>300.0</td>\n",
       "      <td>123511.376667</td>\n",
       "      <td>16211.773474</td>\n",
       "      <td>81370.0</td>\n",
       "      <td>113028.00</td>\n",
       "      <td>130195.5</td>\n",
       "      <td>136393.0</td>\n",
       "      <td>139441.0</td>\n",
       "    </tr>\n",
       "    <tr>\n",
       "      <th>Type</th>\n",
       "      <td>300.0</td>\n",
       "      <td>1.216667</td>\n",
       "      <td>0.580959</td>\n",
       "      <td>1.0</td>\n",
       "      <td>1.00</td>\n",
       "      <td>1.0</td>\n",
       "      <td>1.0</td>\n",
       "      <td>4.0</td>\n",
       "    </tr>\n",
       "    <tr>\n",
       "      <th>Category</th>\n",
       "      <td>300.0</td>\n",
       "      <td>1.896667</td>\n",
       "      <td>0.849546</td>\n",
       "      <td>1.0</td>\n",
       "      <td>1.00</td>\n",
       "      <td>2.0</td>\n",
       "      <td>3.0</td>\n",
       "      <td>3.0</td>\n",
       "    </tr>\n",
       "    <tr>\n",
       "      <th>Post Month</th>\n",
       "      <td>300.0</td>\n",
       "      <td>7.106667</td>\n",
       "      <td>3.306316</td>\n",
       "      <td>1.0</td>\n",
       "      <td>4.00</td>\n",
       "      <td>7.0</td>\n",
       "      <td>10.0</td>\n",
       "      <td>12.0</td>\n",
       "    </tr>\n",
       "    <tr>\n",
       "      <th>Post Weekday</th>\n",
       "      <td>300.0</td>\n",
       "      <td>4.180000</td>\n",
       "      <td>2.015226</td>\n",
       "      <td>1.0</td>\n",
       "      <td>2.75</td>\n",
       "      <td>4.0</td>\n",
       "      <td>6.0</td>\n",
       "      <td>7.0</td>\n",
       "    </tr>\n",
       "    <tr>\n",
       "      <th>Post Hour</th>\n",
       "      <td>300.0</td>\n",
       "      <td>7.546667</td>\n",
       "      <td>4.348662</td>\n",
       "      <td>1.0</td>\n",
       "      <td>3.00</td>\n",
       "      <td>8.0</td>\n",
       "      <td>11.0</td>\n",
       "      <td>22.0</td>\n",
       "    </tr>\n",
       "    <tr>\n",
       "      <th>Paid</th>\n",
       "      <td>299.0</td>\n",
       "      <td>0.290970</td>\n",
       "      <td>0.454971</td>\n",
       "      <td>0.0</td>\n",
       "      <td>0.00</td>\n",
       "      <td>0.0</td>\n",
       "      <td>1.0</td>\n",
       "      <td>1.0</td>\n",
       "    </tr>\n",
       "  </tbody>\n",
       "</table>\n",
       "</div>\n",
       "    <div class=\"colab-df-buttons\">\n",
       "\n",
       "  <div class=\"colab-df-container\">\n",
       "    <button class=\"colab-df-convert\" onclick=\"convertToInteractive('df-2e1e352e-8357-47fb-b041-d0556323eb78')\"\n",
       "            title=\"Convert this dataframe to an interactive table.\"\n",
       "            style=\"display:none;\">\n",
       "\n",
       "  <svg xmlns=\"http://www.w3.org/2000/svg\" height=\"24px\" viewBox=\"0 -960 960 960\">\n",
       "    <path d=\"M120-120v-720h720v720H120Zm60-500h600v-160H180v160Zm220 220h160v-160H400v160Zm0 220h160v-160H400v160ZM180-400h160v-160H180v160Zm440 0h160v-160H620v160ZM180-180h160v-160H180v160Zm440 0h160v-160H620v160Z\"/>\n",
       "  </svg>\n",
       "    </button>\n",
       "\n",
       "  <style>\n",
       "    .colab-df-container {\n",
       "      display:flex;\n",
       "      gap: 12px;\n",
       "    }\n",
       "\n",
       "    .colab-df-convert {\n",
       "      background-color: #E8F0FE;\n",
       "      border: none;\n",
       "      border-radius: 50%;\n",
       "      cursor: pointer;\n",
       "      display: none;\n",
       "      fill: #1967D2;\n",
       "      height: 32px;\n",
       "      padding: 0 0 0 0;\n",
       "      width: 32px;\n",
       "    }\n",
       "\n",
       "    .colab-df-convert:hover {\n",
       "      background-color: #E2EBFA;\n",
       "      box-shadow: 0px 1px 2px rgba(60, 64, 67, 0.3), 0px 1px 3px 1px rgba(60, 64, 67, 0.15);\n",
       "      fill: #174EA6;\n",
       "    }\n",
       "\n",
       "    .colab-df-buttons div {\n",
       "      margin-bottom: 4px;\n",
       "    }\n",
       "\n",
       "    [theme=dark] .colab-df-convert {\n",
       "      background-color: #3B4455;\n",
       "      fill: #D2E3FC;\n",
       "    }\n",
       "\n",
       "    [theme=dark] .colab-df-convert:hover {\n",
       "      background-color: #434B5C;\n",
       "      box-shadow: 0px 1px 3px 1px rgba(0, 0, 0, 0.15);\n",
       "      filter: drop-shadow(0px 1px 2px rgba(0, 0, 0, 0.3));\n",
       "      fill: #FFFFFF;\n",
       "    }\n",
       "  </style>\n",
       "\n",
       "    <script>\n",
       "      const buttonEl =\n",
       "        document.querySelector('#df-2e1e352e-8357-47fb-b041-d0556323eb78 button.colab-df-convert');\n",
       "      buttonEl.style.display =\n",
       "        google.colab.kernel.accessAllowed ? 'block' : 'none';\n",
       "\n",
       "      async function convertToInteractive(key) {\n",
       "        const element = document.querySelector('#df-2e1e352e-8357-47fb-b041-d0556323eb78');\n",
       "        const dataTable =\n",
       "          await google.colab.kernel.invokeFunction('convertToInteractive',\n",
       "                                                    [key], {});\n",
       "        if (!dataTable) return;\n",
       "\n",
       "        const docLinkHtml = 'Like what you see? Visit the ' +\n",
       "          '<a target=\"_blank\" href=https://colab.research.google.com/notebooks/data_table.ipynb>data table notebook</a>'\n",
       "          + ' to learn more about interactive tables.';\n",
       "        element.innerHTML = '';\n",
       "        dataTable['output_type'] = 'display_data';\n",
       "        await google.colab.output.renderOutput(dataTable, element);\n",
       "        const docLink = document.createElement('div');\n",
       "        docLink.innerHTML = docLinkHtml;\n",
       "        element.appendChild(docLink);\n",
       "      }\n",
       "    </script>\n",
       "  </div>\n",
       "\n",
       "\n",
       "<div id=\"df-8907856e-9837-46c0-97e3-e820e64bb6d0\">\n",
       "  <button class=\"colab-df-quickchart\" onclick=\"quickchart('df-8907856e-9837-46c0-97e3-e820e64bb6d0')\"\n",
       "            title=\"Suggest charts\"\n",
       "            style=\"display:none;\">\n",
       "\n",
       "<svg xmlns=\"http://www.w3.org/2000/svg\" height=\"24px\"viewBox=\"0 0 24 24\"\n",
       "     width=\"24px\">\n",
       "    <g>\n",
       "        <path d=\"M19 3H5c-1.1 0-2 .9-2 2v14c0 1.1.9 2 2 2h14c1.1 0 2-.9 2-2V5c0-1.1-.9-2-2-2zM9 17H7v-7h2v7zm4 0h-2V7h2v10zm4 0h-2v-4h2v4z\"/>\n",
       "    </g>\n",
       "</svg>\n",
       "  </button>\n",
       "\n",
       "<style>\n",
       "  .colab-df-quickchart {\n",
       "      --bg-color: #E8F0FE;\n",
       "      --fill-color: #1967D2;\n",
       "      --hover-bg-color: #E2EBFA;\n",
       "      --hover-fill-color: #174EA6;\n",
       "      --disabled-fill-color: #AAA;\n",
       "      --disabled-bg-color: #DDD;\n",
       "  }\n",
       "\n",
       "  [theme=dark] .colab-df-quickchart {\n",
       "      --bg-color: #3B4455;\n",
       "      --fill-color: #D2E3FC;\n",
       "      --hover-bg-color: #434B5C;\n",
       "      --hover-fill-color: #FFFFFF;\n",
       "      --disabled-bg-color: #3B4455;\n",
       "      --disabled-fill-color: #666;\n",
       "  }\n",
       "\n",
       "  .colab-df-quickchart {\n",
       "    background-color: var(--bg-color);\n",
       "    border: none;\n",
       "    border-radius: 50%;\n",
       "    cursor: pointer;\n",
       "    display: none;\n",
       "    fill: var(--fill-color);\n",
       "    height: 32px;\n",
       "    padding: 0;\n",
       "    width: 32px;\n",
       "  }\n",
       "\n",
       "  .colab-df-quickchart:hover {\n",
       "    background-color: var(--hover-bg-color);\n",
       "    box-shadow: 0 1px 2px rgba(60, 64, 67, 0.3), 0 1px 3px 1px rgba(60, 64, 67, 0.15);\n",
       "    fill: var(--button-hover-fill-color);\n",
       "  }\n",
       "\n",
       "  .colab-df-quickchart-complete:disabled,\n",
       "  .colab-df-quickchart-complete:disabled:hover {\n",
       "    background-color: var(--disabled-bg-color);\n",
       "    fill: var(--disabled-fill-color);\n",
       "    box-shadow: none;\n",
       "  }\n",
       "\n",
       "  .colab-df-spinner {\n",
       "    border: 2px solid var(--fill-color);\n",
       "    border-color: transparent;\n",
       "    border-bottom-color: var(--fill-color);\n",
       "    animation:\n",
       "      spin 1s steps(1) infinite;\n",
       "  }\n",
       "\n",
       "  @keyframes spin {\n",
       "    0% {\n",
       "      border-color: transparent;\n",
       "      border-bottom-color: var(--fill-color);\n",
       "      border-left-color: var(--fill-color);\n",
       "    }\n",
       "    20% {\n",
       "      border-color: transparent;\n",
       "      border-left-color: var(--fill-color);\n",
       "      border-top-color: var(--fill-color);\n",
       "    }\n",
       "    30% {\n",
       "      border-color: transparent;\n",
       "      border-left-color: var(--fill-color);\n",
       "      border-top-color: var(--fill-color);\n",
       "      border-right-color: var(--fill-color);\n",
       "    }\n",
       "    40% {\n",
       "      border-color: transparent;\n",
       "      border-right-color: var(--fill-color);\n",
       "      border-top-color: var(--fill-color);\n",
       "    }\n",
       "    60% {\n",
       "      border-color: transparent;\n",
       "      border-right-color: var(--fill-color);\n",
       "    }\n",
       "    80% {\n",
       "      border-color: transparent;\n",
       "      border-right-color: var(--fill-color);\n",
       "      border-bottom-color: var(--fill-color);\n",
       "    }\n",
       "    90% {\n",
       "      border-color: transparent;\n",
       "      border-bottom-color: var(--fill-color);\n",
       "    }\n",
       "  }\n",
       "</style>\n",
       "\n",
       "  <script>\n",
       "    async function quickchart(key) {\n",
       "      const quickchartButtonEl =\n",
       "        document.querySelector('#' + key + ' button');\n",
       "      quickchartButtonEl.disabled = true;  // To prevent multiple clicks.\n",
       "      quickchartButtonEl.classList.add('colab-df-spinner');\n",
       "      try {\n",
       "        const charts = await google.colab.kernel.invokeFunction(\n",
       "            'suggestCharts', [key], {});\n",
       "      } catch (error) {\n",
       "        console.error('Error during call to suggestCharts:', error);\n",
       "      }\n",
       "      quickchartButtonEl.classList.remove('colab-df-spinner');\n",
       "      quickchartButtonEl.classList.add('colab-df-quickchart-complete');\n",
       "    }\n",
       "    (() => {\n",
       "      let quickchartButtonEl =\n",
       "        document.querySelector('#df-8907856e-9837-46c0-97e3-e820e64bb6d0 button');\n",
       "      quickchartButtonEl.style.display =\n",
       "        google.colab.kernel.accessAllowed ? 'block' : 'none';\n",
       "    })();\n",
       "  </script>\n",
       "</div>\n",
       "\n",
       "    </div>\n",
       "  </div>\n"
      ],
      "text/plain": [
       "                  count           mean           std      min        25%  \\\n",
       "Page total likes  300.0  123511.376667  16211.773474  81370.0  113028.00   \n",
       "Type              300.0       1.216667      0.580959      1.0       1.00   \n",
       "Category          300.0       1.896667      0.849546      1.0       1.00   \n",
       "Post Month        300.0       7.106667      3.306316      1.0       4.00   \n",
       "Post Weekday      300.0       4.180000      2.015226      1.0       2.75   \n",
       "Post Hour         300.0       7.546667      4.348662      1.0       3.00   \n",
       "Paid              299.0       0.290970      0.454971      0.0       0.00   \n",
       "\n",
       "                       50%       75%       max  \n",
       "Page total likes  130195.5  136393.0  139441.0  \n",
       "Type                   1.0       1.0       4.0  \n",
       "Category               2.0       3.0       3.0  \n",
       "Post Month             7.0      10.0      12.0  \n",
       "Post Weekday           4.0       6.0       7.0  \n",
       "Post Hour              8.0      11.0      22.0  \n",
       "Paid                   0.0       1.0       1.0  "
      ]
     },
     "execution_count": 5,
     "metadata": {},
     "output_type": "execute_result"
    }
   ],
   "source": [
    "Xtrain.describe().T   # Veamos alguna descripción como datos numéricos del conjunto de entrenamiento.\n",
    "                      # En particular, las desviaciones estándar son muestrales."
   ]
  },
  {
   "cell_type": "code",
   "execution_count": 6,
   "metadata": {
    "colab": {
     "base_uri": "https://localhost:8080/",
     "height": 81
    },
    "executionInfo": {
     "elapsed": 212,
     "status": "ok",
     "timestamp": 1730156702616,
     "user": {
      "displayName": "Carlos Alvarez",
      "userId": "15555807712571237220"
     },
     "user_tz": 360
    },
    "id": "-T2adW4ElGQN",
    "outputId": "672df6e9-9c83-4128-dd51-0ede43987f3b"
   },
   "outputs": [
    {
     "data": {
      "application/vnd.google.colaboratory.intrinsic+json": {
       "summary": "{\n  \"name\": \"ytrain\",\n  \"rows\": 1,\n  \"fields\": [\n    {\n      \"column\": \"count\",\n      \"properties\": {\n        \"dtype\": \"number\",\n        \"std\": null,\n        \"min\": 300.0,\n        \"max\": 300.0,\n        \"num_unique_values\": 1,\n        \"samples\": [\n          300.0\n        ],\n        \"semantic_type\": \"\",\n        \"description\": \"\"\n      }\n    },\n    {\n      \"column\": \"mean\",\n      \"properties\": {\n        \"dtype\": \"number\",\n        \"std\": null,\n        \"min\": 827.9866666666667,\n        \"max\": 827.9866666666667,\n        \"num_unique_values\": 1,\n        \"samples\": [\n          827.9866666666667\n        ],\n        \"semantic_type\": \"\",\n        \"description\": \"\"\n      }\n    },\n    {\n      \"column\": \"std\",\n      \"properties\": {\n        \"dtype\": \"number\",\n        \"std\": null,\n        \"min\": 1009.1029924244377,\n        \"max\": 1009.1029924244377,\n        \"num_unique_values\": 1,\n        \"samples\": [\n          1009.1029924244377\n        ],\n        \"semantic_type\": \"\",\n        \"description\": \"\"\n      }\n    },\n    {\n      \"column\": \"min\",\n      \"properties\": {\n        \"dtype\": \"number\",\n        \"std\": null,\n        \"min\": 9.0,\n        \"max\": 9.0,\n        \"num_unique_values\": 1,\n        \"samples\": [\n          9.0\n        ],\n        \"semantic_type\": \"\",\n        \"description\": \"\"\n      }\n    },\n    {\n      \"column\": \"25%\",\n      \"properties\": {\n        \"dtype\": \"number\",\n        \"std\": null,\n        \"min\": 321.25,\n        \"max\": 321.25,\n        \"num_unique_values\": 1,\n        \"samples\": [\n          321.25\n        ],\n        \"semantic_type\": \"\",\n        \"description\": \"\"\n      }\n    },\n    {\n      \"column\": \"50%\",\n      \"properties\": {\n        \"dtype\": \"number\",\n        \"std\": null,\n        \"min\": 543.5,\n        \"max\": 543.5,\n        \"num_unique_values\": 1,\n        \"samples\": [\n          543.5\n        ],\n        \"semantic_type\": \"\",\n        \"description\": \"\"\n      }\n    },\n    {\n      \"column\": \"75%\",\n      \"properties\": {\n        \"dtype\": \"number\",\n        \"std\": null,\n        \"min\": 1008.75,\n        \"max\": 1008.75,\n        \"num_unique_values\": 1,\n        \"samples\": [\n          1008.75\n        ],\n        \"semantic_type\": \"\",\n        \"description\": \"\"\n      }\n    },\n    {\n      \"column\": \"max\",\n      \"properties\": {\n        \"dtype\": \"number\",\n        \"std\": null,\n        \"min\": 11328.0,\n        \"max\": 11328.0,\n        \"num_unique_values\": 1,\n        \"samples\": [\n          11328.0\n        ],\n        \"semantic_type\": \"\",\n        \"description\": \"\"\n      }\n    }\n  ]\n}",
       "type": "dataframe"
      },
      "text/html": [
       "\n",
       "  <div id=\"df-3996e66f-0e58-4009-b1a1-c5dbdcb62bb8\" class=\"colab-df-container\">\n",
       "    <div>\n",
       "<style scoped>\n",
       "    .dataframe tbody tr th:only-of-type {\n",
       "        vertical-align: middle;\n",
       "    }\n",
       "\n",
       "    .dataframe tbody tr th {\n",
       "        vertical-align: top;\n",
       "    }\n",
       "\n",
       "    .dataframe thead th {\n",
       "        text-align: right;\n",
       "    }\n",
       "</style>\n",
       "<table border=\"1\" class=\"dataframe\">\n",
       "  <thead>\n",
       "    <tr style=\"text-align: right;\">\n",
       "      <th></th>\n",
       "      <th>count</th>\n",
       "      <th>mean</th>\n",
       "      <th>std</th>\n",
       "      <th>min</th>\n",
       "      <th>25%</th>\n",
       "      <th>50%</th>\n",
       "      <th>75%</th>\n",
       "      <th>max</th>\n",
       "    </tr>\n",
       "  </thead>\n",
       "  <tbody>\n",
       "    <tr>\n",
       "      <th>Lifetime Post Consumers</th>\n",
       "      <td>300.0</td>\n",
       "      <td>827.986667</td>\n",
       "      <td>1009.102992</td>\n",
       "      <td>9.0</td>\n",
       "      <td>321.25</td>\n",
       "      <td>543.5</td>\n",
       "      <td>1008.75</td>\n",
       "      <td>11328.0</td>\n",
       "    </tr>\n",
       "  </tbody>\n",
       "</table>\n",
       "</div>\n",
       "    <div class=\"colab-df-buttons\">\n",
       "\n",
       "  <div class=\"colab-df-container\">\n",
       "    <button class=\"colab-df-convert\" onclick=\"convertToInteractive('df-3996e66f-0e58-4009-b1a1-c5dbdcb62bb8')\"\n",
       "            title=\"Convert this dataframe to an interactive table.\"\n",
       "            style=\"display:none;\">\n",
       "\n",
       "  <svg xmlns=\"http://www.w3.org/2000/svg\" height=\"24px\" viewBox=\"0 -960 960 960\">\n",
       "    <path d=\"M120-120v-720h720v720H120Zm60-500h600v-160H180v160Zm220 220h160v-160H400v160Zm0 220h160v-160H400v160ZM180-400h160v-160H180v160Zm440 0h160v-160H620v160ZM180-180h160v-160H180v160Zm440 0h160v-160H620v160Z\"/>\n",
       "  </svg>\n",
       "    </button>\n",
       "\n",
       "  <style>\n",
       "    .colab-df-container {\n",
       "      display:flex;\n",
       "      gap: 12px;\n",
       "    }\n",
       "\n",
       "    .colab-df-convert {\n",
       "      background-color: #E8F0FE;\n",
       "      border: none;\n",
       "      border-radius: 50%;\n",
       "      cursor: pointer;\n",
       "      display: none;\n",
       "      fill: #1967D2;\n",
       "      height: 32px;\n",
       "      padding: 0 0 0 0;\n",
       "      width: 32px;\n",
       "    }\n",
       "\n",
       "    .colab-df-convert:hover {\n",
       "      background-color: #E2EBFA;\n",
       "      box-shadow: 0px 1px 2px rgba(60, 64, 67, 0.3), 0px 1px 3px 1px rgba(60, 64, 67, 0.15);\n",
       "      fill: #174EA6;\n",
       "    }\n",
       "\n",
       "    .colab-df-buttons div {\n",
       "      margin-bottom: 4px;\n",
       "    }\n",
       "\n",
       "    [theme=dark] .colab-df-convert {\n",
       "      background-color: #3B4455;\n",
       "      fill: #D2E3FC;\n",
       "    }\n",
       "\n",
       "    [theme=dark] .colab-df-convert:hover {\n",
       "      background-color: #434B5C;\n",
       "      box-shadow: 0px 1px 3px 1px rgba(0, 0, 0, 0.15);\n",
       "      filter: drop-shadow(0px 1px 2px rgba(0, 0, 0, 0.3));\n",
       "      fill: #FFFFFF;\n",
       "    }\n",
       "  </style>\n",
       "\n",
       "    <script>\n",
       "      const buttonEl =\n",
       "        document.querySelector('#df-3996e66f-0e58-4009-b1a1-c5dbdcb62bb8 button.colab-df-convert');\n",
       "      buttonEl.style.display =\n",
       "        google.colab.kernel.accessAllowed ? 'block' : 'none';\n",
       "\n",
       "      async function convertToInteractive(key) {\n",
       "        const element = document.querySelector('#df-3996e66f-0e58-4009-b1a1-c5dbdcb62bb8');\n",
       "        const dataTable =\n",
       "          await google.colab.kernel.invokeFunction('convertToInteractive',\n",
       "                                                    [key], {});\n",
       "        if (!dataTable) return;\n",
       "\n",
       "        const docLinkHtml = 'Like what you see? Visit the ' +\n",
       "          '<a target=\"_blank\" href=https://colab.research.google.com/notebooks/data_table.ipynb>data table notebook</a>'\n",
       "          + ' to learn more about interactive tables.';\n",
       "        element.innerHTML = '';\n",
       "        dataTable['output_type'] = 'display_data';\n",
       "        await google.colab.output.renderOutput(dataTable, element);\n",
       "        const docLink = document.createElement('div');\n",
       "        docLink.innerHTML = docLinkHtml;\n",
       "        element.appendChild(docLink);\n",
       "      }\n",
       "    </script>\n",
       "  </div>\n",
       "\n",
       "\n",
       "    </div>\n",
       "  </div>\n"
      ],
      "text/plain": [
       "                         count        mean          std  min     25%    50%  \\\n",
       "Lifetime Post Consumers  300.0  827.986667  1009.102992  9.0  321.25  543.5   \n",
       "\n",
       "                             75%      max  \n",
       "Lifetime Post Consumers  1008.75  11328.0  "
      ]
     },
     "execution_count": 6,
     "metadata": {},
     "output_type": "execute_result"
    }
   ],
   "source": [
    "ytrain.describe().T   # lo mismo para la variable de salida."
   ]
  },
  {
   "cell_type": "code",
   "execution_count": 7,
   "metadata": {
    "colab": {
     "base_uri": "https://localhost:8080/",
     "height": 452
    },
    "executionInfo": {
     "elapsed": 1919,
     "status": "ok",
     "timestamp": 1730156704534,
     "user": {
      "displayName": "Carlos Alvarez",
      "userId": "15555807712571237220"
     },
     "user_tz": 360
    },
    "id": "dl3MRrQ9cEeb",
    "outputId": "0e2cf40f-d2dd-4b46-e934-4b035317118a"
   },
   "outputs": [
    {
     "data": {
      "image/png": "[encoded data removed]",
      "text/plain": [
       "<Figure size 640x480 with 1 Axes>"
      ]
     },
     "metadata": {},
     "output_type": "display_data"
    }
   ],
   "source": [
    "ytrainlog = np.log(ytrain)   # Recordemos que nuestra variable de salida en un problema\n",
    "ytrainlog.hist();            # de Regresión se recomienda que esté aproximadamente\n",
    "                             # acampanada, por lo que la ajustaremos con el logaritmo\n",
    "                             # natural como primera aproximación."
   ]
  },
  {
   "cell_type": "code",
   "execution_count": 8,
   "metadata": {
    "executionInfo": {
     "elapsed": 3,
     "status": "ok",
     "timestamp": 1730156704534,
     "user": {
      "displayName": "Carlos Alvarez",
      "userId": "15555807712571237220"
     },
     "user_tz": 360
    },
    "id": "R9AEIQJTiEVE"
   },
   "outputs": [],
   "source": [
    "# y procedemos de la misma manera con Val y test:\n",
    "yvallog = np.log(yval)\n",
    "ytestlog = np.log(ytest)"
   ]
  },
  {
   "cell_type": "code",
   "execution_count": 9,
   "metadata": {
    "executionInfo": {
     "elapsed": 3,
     "status": "ok",
     "timestamp": 1730156704534,
     "user": {
      "displayName": "Carlos Alvarez",
      "userId": "15555807712571237220"
     },
     "user_tz": 360
    },
    "id": "XmT5gvLjpu4J"
   },
   "outputs": [],
   "source": [
    "# Apliaremos lo mínimo de transformaciones, en particular para datos perdidos:\n",
    "num_pipe = Pipeline(steps = [('numImp', SimpleImputer(strategy='median')), ('normalization', MinMaxScaler(feature_range=(1, 5))) #TUVE QUE AGREGAR ESCALAMIENTO EN ESTA PARTE PARA HACER CONVERGER EL MODELO MLP!\n",
    "                             ])\n",
    "num_pipe_nombres = [0]   # ['Page total likes']\n",
    "\n",
    "\n",
    "# Las ordinales las identificamos como tales:\n",
    "ord_pipe = Pipeline(steps =  [('OrdImp', SimpleImputer(strategy='most_frequent')),\n",
    "                              ('Ordfun', OrdinalEncoder(handle_unknown='use_encoded_value', unknown_value=-1 ))\n",
    "                              ])\n",
    "ord_pipe_nombres = [3,4,5]   # ['Post Month', 'Post Weekday', 'Post Hour']\n",
    "\n",
    "# Las nominales las transformamos con One-Hot-Encoder:\n",
    "nom_pipe = Pipeline(steps = [('ohe', OneHotEncoder(drop='first',\n",
    "                                                   handle_unknown='ignore',\n",
    "                                                   ))])\n",
    "nom_pipe_nombres = [1,2,6]   # ['Type', 'Category', 'Paid']\n",
    "\n",
    "\n",
    "# Conjuntamos las transformaciones que aplicaremos:\n",
    "columnasTransformer = ColumnTransformer(transformers = [('numpow', num_pipe, num_pipe_nombres),\n",
    "                                                        ('catOrd', ord_pipe, ord_pipe_nombres),\n",
    "                                                        ('catNom', nom_pipe, nom_pipe_nombres)\n",
    "                                                        ],\n",
    "                                        remainder='passthrough')\n"
   ]
  },
  {
   "cell_type": "code",
   "execution_count": 10,
   "metadata": {
    "colab": {
     "base_uri": "https://localhost:8080/"
    },
    "executionInfo": {
     "elapsed": 218,
     "status": "ok",
     "timestamp": 1730156704750,
     "user": {
      "displayName": "Carlos Alvarez",
      "userId": "15555807712571237220"
     },
     "user_tz": 360
    },
    "id": "mKTrPUXNK8Ih",
    "outputId": "1cda42fc-f95e-4511-abe4-ba478aeb1e14"
   },
   "outputs": [
    {
     "name": "stdout",
     "output_type": "stream",
     "text": [
      "Variables de entrada original: (300, 7)\n",
      "Variables de entrada transformadas: (300, 11)\n"
     ]
    }
   ],
   "source": [
    "# Solo para saber la nueva cantidad de columnas después de las trasnformaciones:\n",
    "\n",
    "XtrainT = columnasTransformer.fit_transform(Xtrain)  # Ajustamos con Train...\n",
    "print('Variables de entrada original:', Xtrain.shape)\n",
    "print('Variables de entrada transformadas:', XtrainT.shape)"
   ]
  },
  {
   "cell_type": "code",
   "execution_count": 11,
   "metadata": {
    "colab": {
     "base_uri": "https://localhost:8080/"
    },
    "executionInfo": {
     "elapsed": 3,
     "status": "ok",
     "timestamp": 1730156704750,
     "user": {
      "displayName": "Carlos Alvarez",
      "userId": "15555807712571237220"
     },
     "user_tz": 360
    },
    "id": "yPTioK_D2z9p",
    "outputId": "bf69185e-2e70-4369-baf9-5c472b1ac211"
   },
   "outputs": [
    {
     "name": "stdout",
     "output_type": "stream",
     "text": [
      "Desv-Est y-original: 1009.103\n",
      "Desv-Est y-logaritmo: 0.907\n"
     ]
    }
   ],
   "source": [
    "# El valor de RMSE-Root-Mean-Square-Error, se utiliza para medir el desempeño\n",
    "# mínimo que debiera obtener un modelo de regresión, es decir, este valor\n",
    "# se toma usualmente como el valor del modelo subentrenado y se compara generalmente\n",
    "# con el valor de la desviación estándar de la variable de salida, ya sea que la\n",
    "# estés tomando de manera original o con los datos transformados.\n",
    "# Veamos el valor de ambas:\n",
    "\n",
    "print('Desv-Est y-original: %.3f' % ytrain.values.std(ddof=1))      # Usemos la desviación estándar muestral ajustando.\n",
    "print('Desv-Est y-logaritmo: %.3f' % ytrainlog.values.std(ddof=1))        # los grados de libertad."
   ]
  },
  {
   "cell_type": "markdown",
   "metadata": {
    "id": "Qa0DX0zFJYx6"
   },
   "source": [
    "#### **NOTA:**\n",
    "#### **Estricamente, desde el punto de vista matemático las desviaciones estándar que uno calcula deben ser las muestrales, es decir, std(ddof=1). Sin embargo, en la práctica es muy común usar la función con su valor predeterminado que es ddof=0 y que se traduce a calcular la desviación estándar poblacional. Repito, en la práctica suele pasarse por alto este ajuste porque cuando se tienen datos de miles o más regitros, la diferencia entre el resultado problacional y el muestral es mínima. En esta actividad lo pongo solamente para recordarlo y en dado caso cuando tengas menos de 100 registros sí hacer este ajuste, porque la diferencia entre ambos ya podría ser importante.**"
   ]
  },
  {
   "cell_type": "code",
   "execution_count": 12,
   "metadata": {
    "executionInfo": {
     "elapsed": 2,
     "status": "ok",
     "timestamp": 1730156704750,
     "user": {
      "displayName": "Carlos Alvarez",
      "userId": "15555807712571237220"
     },
     "user_tz": 360
    },
    "id": "zccFM5f2F3Lh"
   },
   "outputs": [],
   "source": [
    "# Como se va a utilizar Validación-Cruzada, concatenamos los conjuntos de entrenamiento y validación\n",
    "# en uno nuevo conjunto aumentado que llamaremos trainval para utilizar como entrenamiento:\n",
    "\n",
    "Xtrainval = np.concatenate((Xtrain, Xval), axis=0)\n",
    "ytrainvallog = np.concatenate((ytrainlog, yvallog), axis=0)"
   ]
  },
  {
   "cell_type": "markdown",
   "metadata": {
    "id": "a4Ka79ZTyM0_"
   },
   "source": [
    "## **Ejercicio 3**\n"
   ]
  },
  {
   "cell_type": "code",
   "execution_count": 13,
   "metadata": {
    "colab": {
     "base_uri": "https://localhost:8080/",
     "height": 472
    },
    "executionInfo": {
     "elapsed": 36645,
     "status": "ok",
     "timestamp": 1730156741394,
     "user": {
      "displayName": "Carlos Alvarez",
      "userId": "15555807712571237220"
     },
     "user_tz": 360
    },
    "id": "oXpqwlS6lnSS",
    "outputId": "f2d01dae-b9cf-4966-b3d8-1838a1d3ca38"
   },
   "outputs": [
    {
     "data": {
      "image/png": "[encoded data removed]",
      "text/plain": [
       "<Figure size 640x480 with 1 Axes>"
      ]
     },
     "metadata": {},
     "output_type": "display_data"
    }
   ],
   "source": [
    "# Al ejecutar las siguientes líneas de código determina si el modelo de\n",
    "# Bosque Aleatorio con sus valores de hiperparámetros predeterminadas está\n",
    "# Subentrenado o Sobreentrenado. De ser así, busca los valores de sus\n",
    "# hiperparámetros que consideres más adecuados para que ya no\n",
    "# esté sub-o-sobreentrenado:\n",
    "\n",
    "\n",
    "# ++++++++++++++ Incluye aquí tus ajustes ++++++++++++++++++++++++++++++\n",
    "\n",
    "#criterion{“squared_error”, “absolute_error”, “friedman_mse”, “poisson”}, default=”squared_error”\n",
    "\n",
    "elmodelo_RF = RandomForestRegressor(max_depth=3, random_state=45, n_jobs=-1, criterion='friedman_mse')\n",
    "\n",
    "# +++++++++++++ Tesrmina sección de realizar ajustes +++++++++++++++++++++\n",
    "\n",
    "\n",
    "\n",
    "mipipe = Pipeline(steps=[('ct',columnasTransformer),('m', elmodelo_RF)])\n",
    "\n",
    "train_sizes, train_scores, val_scores = learning_curve(estimator=mipipe,\n",
    "                                                        X=Xtrainval,\n",
    "                                                        y=np.ravel(ytrainvallog),\n",
    "                                                        cv=5,\n",
    "                                                        train_sizes= np.linspace(0.1, 1.0, 10),\n",
    "                                                        scoring= 'neg_mean_squared_error',  # error MSE\n",
    "                                                        n_jobs=-1)\n",
    "\n",
    "\n",
    "\n",
    "# Calculamos los promedios y desviación estándar de entrenamiento para RMSE,\n",
    "# como tenemos los de MSE, debemos obtener su raíz cuadrada. El negativo es porque\n",
    "# sklearn nos devuelve en realidad el negativo del Error Cuadrático Medio MSE:\n",
    "\n",
    "rmse_train_scores = np.sqrt(-train_scores)\n",
    "rmse_val_scores = np.sqrt(-val_scores)\n",
    "\n",
    "train_mean = np.mean(rmse_train_scores, axis=1)\n",
    "train_std = np.std(rmse_train_scores, axis=1, ddof=1)   # aquí también hacemos el ajuste de la desviación estándar muestral.\n",
    "val_mean = np.mean(rmse_val_scores, axis=1)\n",
    "val_std = np.std(rmse_val_scores, axis=1, ddof=1)\n",
    "\n",
    "\n",
    "plt.plot(train_sizes, train_mean, color='blue', marker='o', markersize=5, label='Training RMSE')\n",
    "plt.fill_between(train_sizes, train_mean + train_std, train_mean - train_std, alpha=0.15, color='blue')\n",
    "\n",
    "plt.plot(train_sizes, val_mean, color='green', marker='+', markersize=5, linestyle='--', label='Validation RMSE')\n",
    "plt.fill_between(train_sizes, val_mean + val_std, val_mean - val_std, alpha=0.15, color='green')\n",
    "\n",
    "plt.title('Errors : Learning Curve')\n",
    "plt.xlabel('Training Data Size')\n",
    "plt.ylabel('Modelo Error RMSE')\n",
    "plt.grid()\n",
    "plt.legend(loc='lower right')\n",
    "plt.show()\n"
   ]
  },
  {
   "cell_type": "code",
   "execution_count": 14,
   "metadata": {
    "colab": {
     "base_uri": "https://localhost:8080/"
    },
    "executionInfo": {
     "elapsed": 463,
     "status": "ok",
     "timestamp": 1730156741855,
     "user": {
      "displayName": "Carlos Alvarez",
      "userId": "15555807712571237220"
     },
     "user_tz": 360
    },
    "id": "5yEGf3-ft3cO",
    "outputId": "ba18a003-1ca7-46a7-dbcc-eade2836b63b"
   },
   "outputs": [
    {
     "name": "stdout",
     "output_type": "stream",
     "text": [
      "Error RSME(Test) de Random Forest: 0.729\n"
     ]
    }
   ],
   "source": [
    "# Una vez que verifiquemos que no está sobreentrenado o subentrenado el modelo,\n",
    "# podemos calcular el RMSE del mejor ajuste con los datos de Prueba.\n",
    "# Incluye los valores de tus mejores hiperparámetros encontrados del RandomForest:\n",
    "\n",
    "# ++++++++++++++ Incluye aquí tus ajustes ++++++++++++++++++++++++++++++\n",
    "\n",
    "elmodelo_RF = RandomForestRegressor(max_depth=3, random_state=45, n_jobs=-1, criterion='friedman_mse')\n",
    "\n",
    "# +++++++++++++ Tesrmina sección de realizar ajustes +++++++++++++++++++++\n",
    "\n",
    "mipipe = Pipeline(steps=[('ct',columnasTransformer),('m', elmodelo_RF)])\n",
    "mipipe.fit(pd.DataFrame(Xtrainval, columns=Xtrain.columns), np.ravel(ytrainvallog))\n",
    "yhattest_RF = mipipe.predict(Xtest)\n",
    "\n",
    "print('Error RSME(Test) de Random Forest: %.3f' % np.sqrt(mean_squared_error(np.ravel(ytestlog), yhattest_RF)))"
   ]
  },
  {
   "cell_type": "markdown",
   "metadata": {
    "id": "HKwEq8z-zS7G"
   },
   "source": [
    "## **Ejercicio 4**"
   ]
  },
  {
   "cell_type": "markdown",
   "metadata": {
    "id": "hLd2iTBMzZ93"
   },
   "source": [
    "### **Repite el mismo proceso del Ejercicio 3 anterior para obtener los hiperparámetros que nos lleven a casos de modelos no subentrenados o sobreentrenaos, en cada uno de los siguientes casos:**\n",
    "\n",
    "*   **a. Extreme Gradient Boost XGBoost**\n",
    "*   **b. Máquina de Vector Soporte SVM**\n",
    "*   **c. Red Neuronal Perceptrón Multicapa MLP**"
   ]
  },
  {
   "cell_type": "code",
   "execution_count": 15,
   "metadata": {
    "executionInfo": {
     "elapsed": 3,
     "status": "ok",
     "timestamp": 1730156741855,
     "user": {
      "displayName": "Carlos Alvarez",
      "userId": "15555807712571237220"
     },
     "user_tz": 360
    },
    "id": "uIuE5qYYvhkJ"
   },
   "outputs": [],
   "source": [
    "# Incluye a continuación las celdas y líneas de código que consideres necesarias para\n",
    "# responder el Ejercicio 4.\n",
    "\n",
    "# ++++++++++++++ Incluye aquí tus ajustes ++++++++++++++++++++++++++++++\n",
    "\n",
    "modelos = {}\n",
    "\n",
    "# #XGBoost\n",
    "xgBoost = XGBRegressor(n_estimators=200, booster='gbtree', max_depth=4, learning_rate=0.005, n_jobs=-1, random_state=5, reg_alpha=0.1, reg_lambda=0.1)\n",
    "#xgBoost = XGBRegressor(\n",
    "modelos['XGBoost'] = xgBoost\n",
    "\n",
    "#Support Vector Machine\n",
    "svm = SVR(kernel='poly', gamma= 0.08, C=0.5, degree=3, epsilon=0.01, max_iter=-1, coef0=0.0)\n",
    "modelos['SVM'] = svm\n",
    "\n",
    "# MLP Regressor\n",
    "mlpRegressor = MLPRegressor(hidden_layer_sizes=(100,),\n",
    "                             solver='sgd',\n",
    "                             activation='tanh',\n",
    "                             max_iter=5000,\n",
    "                             alpha=0.0001,\n",
    "                             batch_size='auto',\n",
    "                             learning_rate='adaptive',\n",
    "                             learning_rate_init=0.005,\n",
    "                             random_state=1)\n",
    "modelos['MLP'] = mlpRegressor\n",
    "\n",
    "# +++++++++++++ Tesrmina sección de realizar ajustes +++++++++++++++++++++"
   ]
  },
  {
   "cell_type": "code",
   "execution_count": 17,
   "metadata": {
    "colab": {
     "base_uri": "https://localhost:8080/",
     "height": 1000
    },
    "executionInfo": {
     "elapsed": 79543,
     "status": "ok",
     "timestamp": 1730157001679,
     "user": {
      "displayName": "Carlos Alvarez",
      "userId": "15555807712571237220"
     },
     "user_tz": 360
    },
    "id": "sG8SGT1uzrBS",
    "outputId": "663252ad-8c6f-42b0-ebf6-ec28084648f4"
   },
   "outputs": [
    {
     "data": {
      "image/png": "[encoded data removed]",
      "text/plain": [
       "<Figure size 640x480 with 1 Axes>"
      ]
     },
     "metadata": {},
     "output_type": "display_data"
    },
    {
     "name": "stdout",
     "output_type": "stream",
     "text": [
      "Error XGBoost(Test): 0.740\n"
     ]
    },
    {
     "data": {
      "image/png": "[encoded data removed]",
      "text/plain": [
       "<Figure size 640x480 with 1 Axes>"
      ]
     },
     "metadata": {},
     "output_type": "display_data"
    },
    {
     "name": "stdout",
     "output_type": "stream",
     "text": [
      "Error SVM(Test): 0.765\n"
     ]
    },
    {
     "data": {
      "image/png": "[encoded data removed]",
      "text/plain": [
       "<Figure size 640x480 with 1 Axes>"
      ]
     },
     "metadata": {},
     "output_type": "display_data"
    },
    {
     "name": "stdout",
     "output_type": "stream",
     "text": [
      "Error MLP(Test): 0.723\n"
     ]
    }
   ],
   "source": [
    "#Impresion de las curvas de aprendizaje de diferentes nmodelos\n",
    "for nombre_modelo, modelo in modelos.items():\n",
    "    mipipe = Pipeline(steps=[('ct', columnasTransformer), ('m', modelo)])\n",
    "\n",
    "    train_sizes, train_scores, val_scores = learning_curve(estimator=mipipe,\n",
    "                                                            X=Xtrainval,\n",
    "                                                            y=np.ravel(ytrainvallog),\n",
    "                                                            cv=5,\n",
    "                                                            train_sizes=np.linspace(0.1, 1.0, 10),\n",
    "                                                            scoring='neg_mean_squared_error',  # error MSE\n",
    "                                                            n_jobs=-1)\n",
    "\n",
    "    rmse_train_scores = np.sqrt(-train_scores)\n",
    "    rmse_val_scores = np.sqrt(-val_scores)\n",
    "\n",
    "    train_mean = np.mean(rmse_train_scores, axis=1)\n",
    "    train_std = np.std(rmse_train_scores, axis=1, ddof=1)\n",
    "    val_mean = np.mean(rmse_val_scores, axis=1)\n",
    "    val_std = np.std(rmse_val_scores, axis=1, ddof=1)\n",
    "\n",
    "    fig, ax = plt.subplots()  # Crear una figura y un eje\n",
    "\n",
    "    ax.plot(train_sizes, train_mean, color='blue', marker='o', markersize=5, label='Training RMSE')\n",
    "    ax.fill_between(train_sizes, train_mean + train_std, train_mean - train_std, alpha=0.15, color='blue')\n",
    "\n",
    "    ax.plot(train_sizes, val_mean, color='green', marker='+', markersize=5, linestyle='--', label='Validation RMSE')\n",
    "    ax.fill_between(train_sizes, val_mean + val_std, val_mean - val_std, alpha=0.15, color='green')\n",
    "\n",
    "    ax.set_title('Errors : {}'.format(nombre_modelo))\n",
    "    ax.set_xlabel('Training Data Size')\n",
    "    ax.set_ylabel('Modelo Error RMSE')\n",
    "    ax.grid()\n",
    "    ax.legend(loc='lower right')\n",
    "\n",
    "    # Ajustar el espacio vertical entre subplots\n",
    "    plt.subplots_adjust(hspace=30)  # Cambia el valor según sea necesario\n",
    "\n",
    "    plt.show()\n",
    "    #Imprime los valores de RMSE para cada Modelo\n",
    "    mipipe.fit(pd.DataFrame(Xtrainval, columns=Xtrain.columns), np.ravel(ytrainvallog))\n",
    "    yhattest_model = mipipe.predict(Xtest)\n",
    "\n",
    "    print(f'Error {nombre_modelo}(Test): {np.sqrt(mean_squared_error(np.ravel(ytestlog), yhattest_model)):.3f}')\n"
   ]
  },
  {
   "cell_type": "markdown",
   "metadata": {
    "id": "_wWlujaN0Zu-"
   },
   "source": [
    "# **Ejercicio 5**"
   ]
  },
  {
   "cell_type": "markdown",
   "metadata": {
    "id": "A01wHjjM0eNf"
   },
   "source": [
    "### **Incluye tus conclusiones finales de la Actividad.**\n",
    "### **En particular indica cuál consideras que fue el mejor modelo obtenido.**"
   ]
  },
  {
   "cell_type": "markdown",
   "metadata": {
    "id": "aeZrOQkU0x9X"
   },
   "source": [
    "### ++++++++ Inicia la sección de agregar texto: +++++++++++\n",
    "\n",
    "La construcción de las curvas me ayudó mucho a comprender más acerca de cómo medir el desempeño de los modelos con base en número de iteraciones o cantidad de muestras.\n",
    "\n",
    "Es una métrica importante que ayuda a comprender si el aprendizaje se está llevando a cabo de manera correcta ya que si no existiera una evolución de las métricas respecto al número de muestras o ciclos de entrenamiento sería un indicativo de que algo está fallando en el proceso de aprendizaje.\n",
    "\n",
    "En este ejercicio noté que es mucho más fácil entrenar un modelo de randomforest que uno de SVM o MLP ya que ambos requieren mayor costo de cómputo y configuración de hiperparametros más precisa.\n",
    "\n",
    "En mi ejercicio los mejores resultados se obtuvieron en el MLP con 0.723 de RMSE, mientras que en Random Forest se obtuvo 0.729.\n",
    "\n",
    "Algo muy importante que tengo que comentar es que el modelo MLP es el más sensible a escalamiento de los datos, ya que al inicio del ejercicio era imposible de hacer converger el modelo, la curva de validación era inmutable y se mantenía recta en el nivel RMSE de 0.9, por lo que al escalar los datos en la parte de preprocesamiento se notó de inmediato la mejora y se pudo llevar en el modelo MLP las curvas de training y validación a un nivel cercano a 0.75.\n",
    "\n",
    "\n",
    "### ++++++++ Termina la sección de agregar texto. +++++++++++"
   ]
  },
  {
   "cell_type": "markdown",
   "metadata": {
    "id": "6r0YHMtI0ypO"
   },
   "source": [
    ">> **Fin de la Actividad de la Semana 7**"
   ]
  }
 ],
 "metadata": {
  "colab": {
   "provenance": []
  },
  "kernelspec": {
   "display_name": "Python 3",
   "name": "python3"
  },
  "language_info": {
   "name": "python"
  }
 },
 "nbformat": 4,
 "nbformat_minor": 4
}
